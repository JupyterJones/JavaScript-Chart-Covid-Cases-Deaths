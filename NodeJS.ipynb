{
 "cells": [
  {
   "cell_type": "code",
   "execution_count": null,
   "metadata": {},
   "outputs": [],
   "source": [
    "var today = new Date();\n",
    "       var dd = today.getDate() -2;\n",
    "       var mm = today.getMonth()+1;\n",
    "       var yyyy = today.getFullYear();\n",
    "       if(dd<10)\n",
    "       {\n",
    "           dd='0'+dd;\n",
    "       }\n",
    "       if(mm<10)\n",
    "       {\n",
    "           mm='0'+mm;\n",
    "       }\n",
    "       today = mm+'-'+dd+'-'+yyyy;\n",
    "console.log(\"GMT Yesterday:\",today);\n",
    "\n",
    "var filename = 'https://raw.githubusercontent.com/CSSEGISandData/COVID-19/master/csse_covid_19_data/csse_covid_19_daily_reports_us/'+today +'.csv'\n",
    "console.log(filename)\n",
    "\n"
   ]
  },
  {
   "cell_type": "code",
   "execution_count": null,
   "metadata": {},
   "outputs": [],
   "source": [
    " d3.csv(\"use.csv\", function(rawData) {\n",
    " .attr(\"cx\", function(d) {return x(d[\"Deaths\"] )},\n",
    " .attr(\"cy\", function(d) {return y(d[\"Confirmed\"] )}\n",
    "       }"
   ]
  },
  {
   "cell_type": "code",
   "execution_count": null,
   "metadata": {},
   "outputs": [],
   "source": [
    "const csv = require('csv-parser');\n",
    "const fs = require('fs');\n"
   ]
  },
  {
   "cell_type": "code",
   "execution_count": null,
   "metadata": {},
   "outputs": [],
   "source": [
    "const reader = new window.FileReader();\n",
    "reader.readAsText(\"use.csv\");\n",
    "reader.onload = (x) => {\n",
    "  console.log('check data 1 :', x);\n",
    "  console.log('check data :', x.currentTarget.result.split('/n'));\n",
    "}"
   ]
  },
  {
   "cell_type": "code",
   "execution_count": null,
   "metadata": {},
   "outputs": [],
   "source": [
    "const reader = new FileReader();\n",
    "reader.readAsText(\"use.csv\");\n",
    "reader.onload = (x) => {\n",
    "  console.log('check data 1 :', x);\n",
    "  console.log('check data :', x.currentTarget.result.split('/n'));\n",
    "\n",
    "  const headers = ['ac_no', 'name', 'date_time', 'check_type'];\n",
    "  const columns = [0, 1, 2, 4];\n",
    "  const obj = {};\n",
    "  for (let j = 0; j < headers.length; j++) {\n",
    "      obj[headers[j]] = currentline[columns[j]];\n",
    "\n",
    "  const lines = x.currentTarget.result.split('\\n');\n",
    "\n",
    "  const result = [];\n",
    "\n",
    "  for (let i = 0; i < lines.length - 1; i++) {\n",
    "    const obj = {};\n",
    "    const newObj = lines.splice(4,1);\n",
    "    const currentline = lines[i].split(',');\n",
    "    const headers = ['ac_no', 'name', 'date_time', 'check_type'];\n",
    "    for (let j = 0; j < headers.length; j++) {\n",
    "\n",
    "          obj[headers[j]] = currentline[j];\n",
    "\n",
    "    }\n",
    "\n",
    "    result.push(obj);\n",
    "\n",
    "  }\n",
    "\n"
   ]
  },
  {
   "cell_type": "code",
   "execution_count": null,
   "metadata": {},
   "outputs": [],
   "source": [
    "const headers = ['ac_no', 'name', 'date_time', 'check_type'];\n",
    "const columns = [0, 1, 2, 4];\n",
    "const obj = {};\n",
    "for (let j = 0; j < headers.length; j++) {\n",
    "      obj[headers[j]] = currentline[columns[j]];\n",
    "\n",
    "}"
   ]
  },
  {
   "cell_type": "raw",
   "metadata": {},
   "source": [
    "var drawColumnChart = require('chart.js/dist/Chart')\n"
   ]
  },
  {
   "cell_type": "code",
   "execution_count": null,
   "metadata": {},
   "outputs": [],
   "source": [
    "var d3 = require('d3/dist/d3');"
   ]
  },
  {
   "cell_type": "code",
   "execution_count": null,
   "metadata": {},
   "outputs": [],
   "source": [
    "document.ready(function() {\n",
    "    $.ajax({\n",
    "        type: \"GET\",\n",
    "        url: \"use.csv\",\n",
    "        dataType: \"text\",\n",
    "        success: function(data) {processData(data);}\n",
    "     });\n",
    "});\n",
    "\n",
    "function processData(allText) {\n",
    "    var allTextLines = allText.split(/\\r\\n|\\n/);\n",
    "    var headers = allTextLines[0].split(',');\n",
    "    var lines = [];\n",
    "\n",
    "    for (var i=1; i<allTextLines.length; i++) {\n",
    "        var data = allTextLines[i].split(',');\n",
    "        if (data.length == headers.length) {\n",
    "\n",
    "            var tarr = [];\n",
    "            for (var j=0; j<headers.length; j++) {\n",
    "                tarr.push(headers[j]+\":\"+data[j]);\n",
    "            }\n",
    "            lines.push(tarr);\n",
    "        }\n",
    "    }\n",
    "    // alert(lines);\n",
    "}"
   ]
  },
  {
   "cell_type": "code",
   "execution_count": null,
   "metadata": {},
   "outputs": [],
   "source": [
    "function drawColumnChart(covids) {\n",
    "         var covidLabels = covids.map(function(d) {return d.Province_State});\n",
    "         var weeksData = covids.map(function(d) {return +d.Deaths});\n",
    "         var weekData = covids.map(function(d) {return +d.Confirmed});\n",
    "         //var covidColors = covids.map(function(d) {return d.Gender === 'Female' ? '#F15F36' : '#19A0AA';});\n",
    "         var covidColors = '#f9c40c';\n",
    "         console.log(covidLabels);\n",
    "         console.log(weeksData);\n",
    "         console.log(weekData);\n",
    "\n",
    "d3.csv(\"use.csv\")\n",
    "  .then(drawColumnChart);\n",
    "}\n"
   ]
  },
  {
   "cell_type": "code",
   "execution_count": null,
   "metadata": {},
   "outputs": [],
   "source": [
    "var ar = covidLabels;\n",
    "var p1 = ar.slice(0,2);\n",
    "console.log(p1)"
   ]
  },
  {
   "cell_type": "code",
   "execution_count": null,
   "metadata": {},
   "outputs": [],
   "source": [
    "var filename = 'https://raw.githubusercontent.com/CSSEGISandData/COVID-19/master/csse_covid_19_data/csse_covid_19_daily_reports_us/'+today +'.csv'\n",
    "console.log(filename)"
   ]
  },
  {
   "cell_type": "code",
   "execution_count": null,
   "metadata": {},
   "outputs": [],
   "source": [
    "d3.csv(filename)"
   ]
  },
  {
   "cell_type": "code",
   "execution_count": null,
   "metadata": {},
   "outputs": [],
   "source": [
    "module.paths"
   ]
  },
  {
   "cell_type": "code",
   "execution_count": null,
   "metadata": {},
   "outputs": [],
   "source": [
    "require.config({\n",
    "    paths: {\n",
    "        d3: 'https://d3js.org/d3.v5.min'\n",
    "    }\n",
    "});"
   ]
  },
  {
   "cell_type": "code",
   "execution_count": null,
   "metadata": {},
   "outputs": [],
   "source": [
    "function element(){\n",
    "    require(['d3'], function(d3) {   \n",
    "        var data = [1, 2, 4, 8, 16, 8, 4, 2, 1]\n",
    "        var svg = d3.select(element.get(0)).append('svg')\n",
    "            .attr('width', 400)\n",
    "            .attr('height', 200);\n",
    "        svg.selectAll('circle')\n",
    "            .data(data)\n",
    "            .enter()\n",
    "            .append('circle')\n",
    "            .attr(\"cx\", function(d, i) {return 40 * (i + 1);})\n",
    "            .attr(\"cy\", function(d, i) {return 100 + 30 * (i % 3 - 1);})\n",
    "            .style(\"fill\", \"#1570a4\")\n",
    "            .transition().duration(2000)\n",
    "            .attr(\"r\", function(d) {return 2*d;})\n",
    "        ;\n",
    "    })\n",
    "}\n"
   ]
  },
  {
   "cell_type": "code",
   "execution_count": null,
   "metadata": {},
   "outputs": [],
   "source": [
    "require.config({\n",
    "    paths: {\n",
    "        d3: 'https://d3js.org/d3.v5.min'\n",
    "    }\n",
    "});"
   ]
  },
  {
   "cell_type": "code",
   "execution_count": null,
   "metadata": {},
   "outputs": [],
   "source": [
    "var d3 = require('d3/dist/d3');"
   ]
  },
  {
   "cell_type": "code",
   "execution_count": null,
   "metadata": {},
   "outputs": [],
   "source": [
    "require('node_modules/d3/dist/d3.js\")"
   ]
  },
  {
   "cell_type": "code",
   "execution_count": null,
   "metadata": {},
   "outputs": [],
   "source": [
    "require('chart.js/dist/Chart')"
   ]
  },
  {
   "cell_type": "code",
   "execution_count": null,
   "metadata": {},
   "outputs": [],
   "source": [
    "\n",
    "var d3 = require('d3/dist/d3');"
   ]
  },
  {
   "cell_type": "code",
   "execution_count": null,
   "metadata": {},
   "outputs": [],
   "source": [
    "console.log(filename)\n",
    "d3.csv(filename)"
   ]
  },
  {
   "cell_type": "raw",
   "metadata": {},
   "source": [
    "var d3 = require \"d3.js\" "
   ]
  },
  {
   "cell_type": "code",
   "execution_count": null,
   "metadata": {},
   "outputs": [],
   "source": [
    "d3"
   ]
  },
  {
   "cell_type": "code",
   "execution_count": null,
   "metadata": {},
   "outputs": [],
   "source": [
    "var fruits = [\"Banana\", \"Orange\", \"Apple\", \"Mango\"];\n",
    "fruits.sort();"
   ]
  },
  {
   "cell_type": "code",
   "execution_count": null,
   "metadata": {},
   "outputs": [],
   "source": [
    "var fruits = [\"Banana\", \"Orange\", \"Apple\", \"Mango\"];\n",
    "fruits.sort();\n",
    "\n",
    "\n",
    "console.log(answer);"
   ]
  },
  {
   "cell_type": "code",
   "execution_count": null,
   "metadata": {},
   "outputs": [],
   "source": [
    "console.log(p1)"
   ]
  },
  {
   "cell_type": "code",
   "execution_count": 3,
   "metadata": {},
   "outputs": [
    {
     "ename": "Error",
     "evalue": "cannot read as File: \"use.csv\"",
     "output_type": "error",
     "traceback": [
      "/home/jack/Desktop/JavaScript-Chart-Covid-Cases-Deaths/node_modules/filereader/FileReader.js:266",
      "        throw new Error(\"cannot read as File: \" + JSON.stringify(file));",
      "        ^",
      "",
      "Error: cannot read as File: \"use.csv\"",
      "    at readFile (/home/jack/Desktop/JavaScript-Chart-Covid-Cases-Deaths/node_modules/filereader/FileReader.js:266:15)",
      "    at FileReader.self.readAsText (/home/jack/Desktop/JavaScript-Chart-Covid-Cases-Deaths/node_modules/filereader/FileReader.js:295:7)",
      "    at evalmachine.<anonymous>:7:8",
      "    at Script.runInThisContext (vm.js:116:20)",
      "    at Object.runInThisContext (vm.js:306:38)",
      "    at run ([eval]:1054:15)",
      "    at onRunRequest ([eval]:888:18)",
      "    at onMessage ([eval]:848:13)",
      "    at process.emit (events.js:210:5)",
      "    at emit (internal/child_process.js:876:12)"
     ]
    }
   ],
   "source": [
    "var FileReader = require('filereader')\n",
    "reader = new FileReader();\n",
    "reader.onload = function(e) {  \n",
    "  bfile = e.target.result \n",
    "  alert(bfile);   // this shows bfile\n",
    "}\n",
    "reader.readAsText('use.csv');"
   ]
  },
  {
   "cell_type": "code",
   "execution_count": 6,
   "metadata": {},
   "outputs": [
    {
     "ename": "SyntaxError",
     "evalue": "Invalid or unexpected token",
     "output_type": "error",
     "traceback": [
      "evalmachine.<anonymous>:17",
      "fileReader.onloadend', function () {",
      "                    ^^^^^^^^^^^^^^^^",
      "",
      "SyntaxError: Invalid or unexpected token",
      "    at new Script (vm.js:84:7)",
      "    at createScript (vm.js:258:10)",
      "    at Object.runInThisContext (vm.js:306:10)",
      "    at run ([eval]:1054:15)",
      "    at onRunRequest ([eval]:888:18)",
      "    at onMessage ([eval]:848:13)",
      "    at process.emit (events.js:210:5)",
      "    at emit (internal/child_process.js:876:12)",
      "    at processTicksAndRejections (internal/process/task_queues.js:81:21)"
     ]
    }
   ],
   "source": [
    "var FileReader = require('filereader'), fileReader = new FileReader();\n",
    " \n",
    "fileReader.setNodeChunkedEncoding(true || false);\n",
    "fileReader.readAsDataURL(new File('use.csv'));\n",
    " \n",
    "// non-standard alias of `addEventListener` listening to non-standard `data` event\n",
    "fileReader.on('data', function (data) {\n",
    "  console.log(\"chunkSize:\", data.length);\n",
    "});\n",
    " \n",
    "// `onload` as listener\n",
    "fileReader.addEventListener('load', function (ev) {\n",
    "  console.log(\"dataUrlSize:\", ev.target.result.length);\n",
    "});\n",
    " \n",
    "// `onloadend` as property\n",
    "fileReader.onloadend', function () {\n",
    "  console.log(\"Success\");\n",
    "});\n"
   ]
  },
  {
   "cell_type": "code",
   "execution_count": null,
   "metadata": {},
   "outputs": [],
   "source": [
    "const createCsvWriter = require('csv-writer').createObjectCsvWriter;\n",
    "const csvWriter = createCsvWriter({\n",
    "  path: 'out.csv',\n",
    "  header: [\n",
    "    {id: 'name', title: 'Name'},\n",
    "    {id: 'surname', title: 'Surname'},\n",
    "    {id: 'age', title: 'Age'},\n",
    "    {id: 'gender', title: 'Gender'},\n",
    "  ]\n",
    "});\n",
    "\n",
    "const data = [\n",
    "  {\n",
    "    name: 'John',\n",
    "    surname: 'Snow',\n",
    "    age: 26,\n",
    "    gender: 'M'\n",
    "  }, {\n",
    "    name: 'Clair',\n",
    "    surname: 'White',\n",
    "    age: 33,\n",
    "    gender: 'F',\n",
    "  }, {\n",
    "    name: 'Fancy',\n",
    "    surname: 'Brown',\n",
    "    age: 78,\n",
    "    gender: 'F'\n",
    "  }\n",
    "];\n",
    "\n",
    "csvWriter\n",
    "  .writeRecords(data)\n",
    "  .then(()=> console.log('The CSV file was written successfully'));"
   ]
  },
  {
   "cell_type": "code",
   "execution_count": null,
   "metadata": {},
   "outputs": [],
   "source": [
    "fs.createReadStream('use.csv')\n",
    "  .pipe(csv())\n",
    "  .on('data', (row) => {\n",
    "    console.log(row);\n",
    "  })\n",
    "  .on('end', () => {\n",
    "    console.log('CSV file successfully processed');\n",
    "  });"
   ]
  }
 ],
 "metadata": {
  "kernelspec": {
   "display_name": "Node.js",
   "language": "javascript",
   "name": "javascript"
  },
  "language_info": {
   "file_extension": ".js",
   "mimetype": "application/javascript",
   "name": "javascript",
   "version": "12.14.0"
  },
  "toc": {
   "base_numbering": 1,
   "nav_menu": {},
   "number_sections": false,
   "sideBar": false,
   "skip_h1_title": false,
   "title_cell": "Table of Contents",
   "title_sidebar": "Contents",
   "toc_cell": false,
   "toc_position": {},
   "toc_section_display": false,
   "toc_window_display": false
  }
 },
 "nbformat": 4,
 "nbformat_minor": 4
}
